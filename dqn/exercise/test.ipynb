{
 "cells": [
  {
   "cell_type": "code",
   "execution_count": 3,
   "id": "cea2b4b9-2588-4301-85c9-0bca6c9e12ef",
   "metadata": {},
   "outputs": [
    {
     "name": "stdout",
     "output_type": "stream",
     "text": [
      "Statespace:  8\n",
      "Actionspace:  4\n"
     ]
    }
   ],
   "source": [
    "import gym\n",
    "import torch \n",
    "from collections import namedtuple\n",
    "import random\n",
    "\n",
    "from dqn_agent import Agent\n",
    "from model import QNetwork\n",
    "from environment import Environment\n",
    "\n",
    "# setting up our device \n",
    "device = torch.device('cuda' if torch.cuda.is_available() else 'cpu')\n",
    "\n",
    "\n",
    "# setting up our environment + agent + model \n",
    "env = Environment('LunarLander-v2')\n",
    "agent = Agent(env.statespace, env.actionspace, 10)\n",
    "model = QNetwork(env.statespace, env.actionspace, 10).to(device)"
   ]
  },
  {
   "cell_type": "code",
   "execution_count": 4,
   "id": "88bfd51d-ca0e-42da-a30a-072d087a988d",
   "metadata": {},
   "outputs": [],
   "source": [
    "state = env.reset()\n",
    "\n",
    "for i in range(200):\n",
    "    action = agent.act(state)\n",
    "    next_state, reward, done, info = env.step(action)\n",
    "    agent.step(state, action, reward, next_state, done)\n",
    "    \n",
    "    if done == True:\n",
    "        break\n",
    "\n"
   ]
  },
  {
   "cell_type": "code",
   "execution_count": 5,
   "id": "0c099456-a5ca-4f2c-b6b1-3ae73f26aba7",
   "metadata": {},
   "outputs": [
    {
     "data": {
      "text/plain": [
       "85"
      ]
     },
     "execution_count": 5,
     "metadata": {},
     "output_type": "execute_result"
    }
   ],
   "source": [
    "len(agent.memory)"
   ]
  },
  {
   "cell_type": "code",
   "execution_count": 6,
   "id": "2dfdd903-af9c-4860-aba7-dcf607143483",
   "metadata": {},
   "outputs": [],
   "source": [
    "batch_experience = agent.memory.sample()"
   ]
  },
  {
   "cell_type": "code",
   "execution_count": 7,
   "id": "3f6945c7-1a08-46ff-97da-7892b2e716bb",
   "metadata": {},
   "outputs": [],
   "source": [
    "states, actions, rewards, next_states, done = batch_experience "
   ]
  },
  {
   "cell_type": "code",
   "execution_count": 97,
   "id": "96c31eaf-d8fb-4a9c-9603-18c5210522ea",
   "metadata": {},
   "outputs": [],
   "source": [
    "all_q_values = model(states).to(device) "
   ]
  },
  {
   "cell_type": "code",
   "execution_count": 98,
   "id": "8132bcde-4a8c-4322-85a1-f675b7a650b7",
   "metadata": {},
   "outputs": [
    {
     "name": "stdout",
     "output_type": "stream",
     "text": [
      "tensor([[0.3060, 0.0336, 0.1828, 0.0236],\n",
      "        [0.3060, 0.0336, 0.1828, 0.0236],\n",
      "        [0.3060, 0.0336, 0.1828, 0.0236],\n",
      "        [0.3060, 0.0336, 0.1828, 0.0236],\n",
      "        [0.3060, 0.0336, 0.1828, 0.0236],\n",
      "        [0.3060, 0.0336, 0.1828, 0.0236],\n",
      "        [0.3060, 0.0336, 0.1828, 0.0236],\n",
      "        [0.3060, 0.0336, 0.1828, 0.0236],\n",
      "        [0.3060, 0.0336, 0.1828, 0.0236],\n",
      "        [0.3060, 0.0336, 0.1828, 0.0236],\n",
      "        [0.3060, 0.0336, 0.1828, 0.0236],\n",
      "        [0.3060, 0.0336, 0.1828, 0.0236],\n",
      "        [0.3060, 0.0336, 0.1828, 0.0236],\n",
      "        [0.3060, 0.0336, 0.1828, 0.0236],\n",
      "        [0.3060, 0.0336, 0.1828, 0.0236],\n",
      "        [0.3060, 0.0336, 0.1828, 0.0236],\n",
      "        [0.3060, 0.0336, 0.1828, 0.0236],\n",
      "        [0.3060, 0.0336, 0.1828, 0.0236],\n",
      "        [0.3060, 0.0336, 0.1828, 0.0236],\n",
      "        [0.3060, 0.0336, 0.1828, 0.0236],\n",
      "        [0.3060, 0.0336, 0.1828, 0.0236],\n",
      "        [0.3060, 0.0336, 0.1828, 0.0236],\n",
      "        [0.3060, 0.0336, 0.1828, 0.0236],\n",
      "        [0.3060, 0.0336, 0.1828, 0.0236],\n",
      "        [0.3060, 0.0336, 0.1828, 0.0236],\n",
      "        [0.3060, 0.0336, 0.1828, 0.0236],\n",
      "        [0.3060, 0.0336, 0.1828, 0.0236],\n",
      "        [0.3060, 0.0336, 0.1828, 0.0236],\n",
      "        [0.3060, 0.0336, 0.1828, 0.0236],\n",
      "        [0.3060, 0.0336, 0.1828, 0.0236],\n",
      "        [0.3060, 0.0336, 0.1828, 0.0236],\n",
      "        [0.3060, 0.0336, 0.1828, 0.0236],\n",
      "        [0.3060, 0.0336, 0.1828, 0.0236],\n",
      "        [0.3060, 0.0336, 0.1828, 0.0236],\n",
      "        [0.3060, 0.0336, 0.1828, 0.0236],\n",
      "        [0.3060, 0.0336, 0.1828, 0.0236],\n",
      "        [0.3060, 0.0336, 0.1828, 0.0236],\n",
      "        [0.3060, 0.0336, 0.1828, 0.0236],\n",
      "        [0.3060, 0.0336, 0.1828, 0.0236],\n",
      "        [0.3060, 0.0336, 0.1828, 0.0236],\n",
      "        [0.3060, 0.0336, 0.1828, 0.0236],\n",
      "        [0.3060, 0.0336, 0.1828, 0.0236],\n",
      "        [0.3060, 0.0336, 0.1828, 0.0236],\n",
      "        [0.3060, 0.0336, 0.1828, 0.0236],\n",
      "        [0.3060, 0.0336, 0.1828, 0.0236],\n",
      "        [0.3060, 0.0336, 0.1828, 0.0236],\n",
      "        [0.3060, 0.0336, 0.1828, 0.0236],\n",
      "        [0.3060, 0.0336, 0.1828, 0.0236],\n",
      "        [0.3060, 0.0336, 0.1828, 0.0236],\n",
      "        [0.3060, 0.0336, 0.1828, 0.0236],\n",
      "        [0.3060, 0.0336, 0.1828, 0.0236],\n",
      "        [0.3060, 0.0336, 0.1828, 0.0236],\n",
      "        [0.3060, 0.0336, 0.1828, 0.0236],\n",
      "        [0.3060, 0.0336, 0.1828, 0.0236],\n",
      "        [0.3060, 0.0336, 0.1828, 0.0236],\n",
      "        [0.3060, 0.0336, 0.1828, 0.0236],\n",
      "        [0.3060, 0.0336, 0.1828, 0.0236],\n",
      "        [0.3060, 0.0336, 0.1828, 0.0236],\n",
      "        [0.3060, 0.0336, 0.1828, 0.0236],\n",
      "        [0.3060, 0.0336, 0.1828, 0.0236],\n",
      "        [0.3060, 0.0336, 0.1828, 0.0236],\n",
      "        [0.3060, 0.0336, 0.1828, 0.0236],\n",
      "        [0.3060, 0.0336, 0.1828, 0.0236],\n",
      "        [0.3060, 0.0336, 0.1828, 0.0236]], device='cuda:0',\n",
      "       grad_fn=<AddmmBackward>)\n"
     ]
    }
   ],
   "source": [
    "print(all_q_values)"
   ]
  },
  {
   "cell_type": "code",
   "execution_count": 131,
   "id": "009cb9e5-4bf9-49b6-91a0-17486235c92f",
   "metadata": {},
   "outputs": [
    {
     "data": {
      "text/plain": [
       "torch.Size([64, 8])"
      ]
     },
     "execution_count": 131,
     "metadata": {},
     "output_type": "execute_result"
    }
   ],
   "source": []
  },
  {
   "cell_type": "code",
   "execution_count": null,
   "id": "9c6ce1e0-12e5-41b0-b58c-85223316ab26",
   "metadata": {},
   "outputs": [],
   "source": []
  }
 ],
 "metadata": {
  "kernelspec": {
   "display_name": "Python 3",
   "language": "python",
   "name": "python3"
  },
  "language_info": {
   "codemirror_mode": {
    "name": "ipython",
    "version": 3
   },
   "file_extension": ".py",
   "mimetype": "text/x-python",
   "name": "python",
   "nbconvert_exporter": "python",
   "pygments_lexer": "ipython3",
   "version": "3.9.5"
  }
 },
 "nbformat": 4,
 "nbformat_minor": 5
}
