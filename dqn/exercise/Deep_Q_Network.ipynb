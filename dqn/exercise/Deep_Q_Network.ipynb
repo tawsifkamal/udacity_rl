{
 "cells": [
  {
   "cell_type": "markdown",
   "metadata": {},
   "source": [
    "# Deep Q-Network (DQN)\n",
    "---\n",
    "In this notebook, you will implement a DQN agent with OpenAI Gym's LunarLander-v2 environment.\n",
    "\n",
    "### 1. Import the Necessary Packages"
   ]
  },
  {
   "cell_type": "code",
   "execution_count": 1,
   "metadata": {},
   "outputs": [],
   "source": [
    "import gym\n",
    "import random\n",
    "import torch\n",
    "import numpy as np\n",
    "from collections import deque\n",
    "import matplotlib.pyplot as plt\n",
    "%matplotlib inline"
   ]
  },
  {
   "cell_type": "markdown",
   "metadata": {},
   "source": [
    "### 2. Instantiate the Environment and Agent\n",
    "\n",
    "Initialize the environment in the code cell below."
   ]
  },
  {
   "cell_type": "code",
   "execution_count": 2,
   "metadata": {},
   "outputs": [
    {
<<<<<<< HEAD
     "output_type": "error",
     "ename": "AttributeError",
     "evalue": "module 'gym.envs.box2d' has no attribute 'LunarLander'",
     "traceback": [
      "\u001b[1;31m---------------------------------------------------------------------------\u001b[0m",
      "\u001b[1;31mAttributeError\u001b[0m                            Traceback (most recent call last)",
      "\u001b[1;32m<ipython-input-2-38670a1fcc69>\u001b[0m in \u001b[0;36m<module>\u001b[1;34m\u001b[0m\n\u001b[1;32m----> 1\u001b[1;33m \u001b[0menv\u001b[0m \u001b[1;33m=\u001b[0m \u001b[0mgym\u001b[0m\u001b[1;33m.\u001b[0m\u001b[0mmake\u001b[0m\u001b[1;33m(\u001b[0m\u001b[1;34m'LunarLander-v2'\u001b[0m\u001b[1;33m)\u001b[0m\u001b[1;33m\u001b[0m\u001b[1;33m\u001b[0m\u001b[0m\n\u001b[0m\u001b[0;32m      2\u001b[0m \u001b[0menv\u001b[0m\u001b[1;33m.\u001b[0m\u001b[0mseed\u001b[0m\u001b[1;33m(\u001b[0m\u001b[1;36m0\u001b[0m\u001b[1;33m)\u001b[0m\u001b[1;33m\u001b[0m\u001b[1;33m\u001b[0m\u001b[0m\n\u001b[0;32m      3\u001b[0m \u001b[0mprint\u001b[0m\u001b[1;33m(\u001b[0m\u001b[1;34m'State shape: '\u001b[0m\u001b[1;33m,\u001b[0m \u001b[0menv\u001b[0m\u001b[1;33m.\u001b[0m\u001b[0mobservation_space\u001b[0m\u001b[1;33m.\u001b[0m\u001b[0mshape\u001b[0m\u001b[1;33m)\u001b[0m\u001b[1;33m\u001b[0m\u001b[1;33m\u001b[0m\u001b[0m\n\u001b[0;32m      4\u001b[0m \u001b[0mprint\u001b[0m\u001b[1;33m(\u001b[0m\u001b[1;34m'Number of actions: '\u001b[0m\u001b[1;33m,\u001b[0m \u001b[0menv\u001b[0m\u001b[1;33m.\u001b[0m\u001b[0maction_space\u001b[0m\u001b[1;33m.\u001b[0m\u001b[0mn\u001b[0m\u001b[1;33m)\u001b[0m\u001b[1;33m\u001b[0m\u001b[1;33m\u001b[0m\u001b[0m\n",
      "\u001b[1;32m~\\anaconda3\\lib\\site-packages\\gym\\envs\\registration.py\u001b[0m in \u001b[0;36mmake\u001b[1;34m(id, **kwargs)\u001b[0m\n\u001b[0;32m    143\u001b[0m \u001b[1;33m\u001b[0m\u001b[0m\n\u001b[0;32m    144\u001b[0m \u001b[1;32mdef\u001b[0m \u001b[0mmake\u001b[0m\u001b[1;33m(\u001b[0m\u001b[0mid\u001b[0m\u001b[1;33m,\u001b[0m \u001b[1;33m**\u001b[0m\u001b[0mkwargs\u001b[0m\u001b[1;33m)\u001b[0m\u001b[1;33m:\u001b[0m\u001b[1;33m\u001b[0m\u001b[1;33m\u001b[0m\u001b[0m\n\u001b[1;32m--> 145\u001b[1;33m     \u001b[1;32mreturn\u001b[0m \u001b[0mregistry\u001b[0m\u001b[1;33m.\u001b[0m\u001b[0mmake\u001b[0m\u001b[1;33m(\u001b[0m\u001b[0mid\u001b[0m\u001b[1;33m,\u001b[0m \u001b[1;33m**\u001b[0m\u001b[0mkwargs\u001b[0m\u001b[1;33m)\u001b[0m\u001b[1;33m\u001b[0m\u001b[1;33m\u001b[0m\u001b[0m\n\u001b[0m\u001b[0;32m    146\u001b[0m \u001b[1;33m\u001b[0m\u001b[0m\n\u001b[0;32m    147\u001b[0m \u001b[1;32mdef\u001b[0m \u001b[0mspec\u001b[0m\u001b[1;33m(\u001b[0m\u001b[0mid\u001b[0m\u001b[1;33m)\u001b[0m\u001b[1;33m:\u001b[0m\u001b[1;33m\u001b[0m\u001b[1;33m\u001b[0m\u001b[0m\n",
      "\u001b[1;32m~\\anaconda3\\lib\\site-packages\\gym\\envs\\registration.py\u001b[0m in \u001b[0;36mmake\u001b[1;34m(self, path, **kwargs)\u001b[0m\n\u001b[0;32m     88\u001b[0m             \u001b[0mlogger\u001b[0m\u001b[1;33m.\u001b[0m\u001b[0minfo\u001b[0m\u001b[1;33m(\u001b[0m\u001b[1;34m'Making new env: %s'\u001b[0m\u001b[1;33m,\u001b[0m \u001b[0mpath\u001b[0m\u001b[1;33m)\u001b[0m\u001b[1;33m\u001b[0m\u001b[1;33m\u001b[0m\u001b[0m\n\u001b[0;32m     89\u001b[0m         \u001b[0mspec\u001b[0m \u001b[1;33m=\u001b[0m \u001b[0mself\u001b[0m\u001b[1;33m.\u001b[0m\u001b[0mspec\u001b[0m\u001b[1;33m(\u001b[0m\u001b[0mpath\u001b[0m\u001b[1;33m)\u001b[0m\u001b[1;33m\u001b[0m\u001b[1;33m\u001b[0m\u001b[0m\n\u001b[1;32m---> 90\u001b[1;33m         \u001b[0menv\u001b[0m \u001b[1;33m=\u001b[0m \u001b[0mspec\u001b[0m\u001b[1;33m.\u001b[0m\u001b[0mmake\u001b[0m\u001b[1;33m(\u001b[0m\u001b[1;33m**\u001b[0m\u001b[0mkwargs\u001b[0m\u001b[1;33m)\u001b[0m\u001b[1;33m\u001b[0m\u001b[1;33m\u001b[0m\u001b[0m\n\u001b[0m\u001b[0;32m     91\u001b[0m         \u001b[1;31m# We used to have people override _reset/_step rather than\u001b[0m\u001b[1;33m\u001b[0m\u001b[1;33m\u001b[0m\u001b[1;33m\u001b[0m\u001b[0m\n\u001b[0;32m     92\u001b[0m         \u001b[1;31m# reset/step. Set _gym_disable_underscore_compat = True on\u001b[0m\u001b[1;33m\u001b[0m\u001b[1;33m\u001b[0m\u001b[1;33m\u001b[0m\u001b[0m\n",
      "\u001b[1;32m~\\anaconda3\\lib\\site-packages\\gym\\envs\\registration.py\u001b[0m in \u001b[0;36mmake\u001b[1;34m(self, **kwargs)\u001b[0m\n\u001b[0;32m     57\u001b[0m             \u001b[0menv\u001b[0m \u001b[1;33m=\u001b[0m \u001b[0mself\u001b[0m\u001b[1;33m.\u001b[0m\u001b[0mentry_point\u001b[0m\u001b[1;33m(\u001b[0m\u001b[1;33m**\u001b[0m\u001b[0m_kwargs\u001b[0m\u001b[1;33m)\u001b[0m\u001b[1;33m\u001b[0m\u001b[1;33m\u001b[0m\u001b[0m\n\u001b[0;32m     58\u001b[0m         \u001b[1;32melse\u001b[0m\u001b[1;33m:\u001b[0m\u001b[1;33m\u001b[0m\u001b[1;33m\u001b[0m\u001b[0m\n\u001b[1;32m---> 59\u001b[1;33m             \u001b[0mcls\u001b[0m \u001b[1;33m=\u001b[0m \u001b[0mload\u001b[0m\u001b[1;33m(\u001b[0m\u001b[0mself\u001b[0m\u001b[1;33m.\u001b[0m\u001b[0mentry_point\u001b[0m\u001b[1;33m)\u001b[0m\u001b[1;33m\u001b[0m\u001b[1;33m\u001b[0m\u001b[0m\n\u001b[0m\u001b[0;32m     60\u001b[0m             \u001b[0menv\u001b[0m \u001b[1;33m=\u001b[0m \u001b[0mcls\u001b[0m\u001b[1;33m(\u001b[0m\u001b[1;33m**\u001b[0m\u001b[0m_kwargs\u001b[0m\u001b[1;33m)\u001b[0m\u001b[1;33m\u001b[0m\u001b[1;33m\u001b[0m\u001b[0m\n\u001b[0;32m     61\u001b[0m \u001b[1;33m\u001b[0m\u001b[0m\n",
      "\u001b[1;32m~\\anaconda3\\lib\\site-packages\\gym\\envs\\registration.py\u001b[0m in \u001b[0;36mload\u001b[1;34m(name)\u001b[0m\n\u001b[0;32m     17\u001b[0m     \u001b[0mmod_name\u001b[0m\u001b[1;33m,\u001b[0m \u001b[0mattr_name\u001b[0m \u001b[1;33m=\u001b[0m \u001b[0mname\u001b[0m\u001b[1;33m.\u001b[0m\u001b[0msplit\u001b[0m\u001b[1;33m(\u001b[0m\u001b[1;34m\":\"\u001b[0m\u001b[1;33m)\u001b[0m\u001b[1;33m\u001b[0m\u001b[1;33m\u001b[0m\u001b[0m\n\u001b[0;32m     18\u001b[0m     \u001b[0mmod\u001b[0m \u001b[1;33m=\u001b[0m \u001b[0mimportlib\u001b[0m\u001b[1;33m.\u001b[0m\u001b[0mimport_module\u001b[0m\u001b[1;33m(\u001b[0m\u001b[0mmod_name\u001b[0m\u001b[1;33m)\u001b[0m\u001b[1;33m\u001b[0m\u001b[1;33m\u001b[0m\u001b[0m\n\u001b[1;32m---> 19\u001b[1;33m     \u001b[0mfn\u001b[0m \u001b[1;33m=\u001b[0m \u001b[0mgetattr\u001b[0m\u001b[1;33m(\u001b[0m\u001b[0mmod\u001b[0m\u001b[1;33m,\u001b[0m \u001b[0mattr_name\u001b[0m\u001b[1;33m)\u001b[0m\u001b[1;33m\u001b[0m\u001b[1;33m\u001b[0m\u001b[0m\n\u001b[0m\u001b[0;32m     20\u001b[0m     \u001b[1;32mreturn\u001b[0m \u001b[0mfn\u001b[0m\u001b[1;33m\u001b[0m\u001b[1;33m\u001b[0m\u001b[0m\n\u001b[0;32m     21\u001b[0m \u001b[1;33m\u001b[0m\u001b[0m\n",
      "\u001b[1;31mAttributeError\u001b[0m: module 'gym.envs.box2d' has no attribute 'LunarLander'"
=======
     "name": "stdout",
     "output_type": "stream",
     "text": [
      "State shape:  (8,)\n",
      "Number of actions:  4\n"
>>>>>>> e9f129f3e3397843f146e48bf2f29e8d93e2ec82
     ]
    }
   ],
   "source": [
    "env = gym.make('LunarLander-v2')\n",
    "env.seed(0)\n",
    "print('State shape: ', env.observation_space.shape)\n",
    "print('Number of actions: ', env.action_space.n)"
   ]
  },
  {
   "cell_type": "markdown",
   "metadata": {},
   "source": [
    "Before running the next code cell, familiarize yourself with the code in **Step 2** and **Step 3** of this notebook, along with the code in `dqn_agent.py` and `model.py`.  Once you have an understanding of how the different files work together, \n",
    "- Define a neural network architecture in `model.py` that maps states to action values.  This file is mostly empty - it's up to you to define your own deep Q-network!\n",
    "- Finish the `learn` method in the `Agent` class in `dqn_agent.py`.  The sampled batch of experience tuples is already provided for you; you need only use the local and target Q-networks to compute the loss, before taking a step towards minimizing the loss.\n",
    "\n",
    "Once you have completed the code in `dqn_agent.py` and `model.py`, run the code cell below.  (_If you end up needing to make multiple changes and get unexpected behavior, please restart the kernel and run the cells from the beginning of the notebook!_)\n",
    "\n",
    "You can find the solution files, along with saved model weights for a trained agent, in the `solution/` folder.  (_Note that there are many ways to solve this exercise, and the \"solution\" is just one way of approaching the problem, to yield a trained agent._)"
   ]
  },
  {
   "cell_type": "code",
   "execution_count": 3,
   "metadata": {
    "tags": []
   },
   "outputs": [],
   "source": [
    "from dqn_agent import Agent\n",
    "\n",
    "agent = Agent(state_size=8, action_size=4, seed=0)\n",
    "\n",
    "# watch an untrained agent\n",
    "# state = env.reset()\n",
    "# for j in range(200):\n",
    "#     action = agent.act(state)\n",
    "#     env.render()\n",
    "#     state, reward, done, _ = env.step(action)\n",
    "#     if done:\n",
    "#         break \n",
    "        \n",
    "# env.close()"
   ]
  },
  {
   "cell_type": "markdown",
   "metadata": {},
   "source": [
    "### 3. Train the Agent with DQN\n",
    "\n",
    "Run the code cell below to train the agent from scratch.  You are welcome to amend the supplied values of the parameters in the function, to try to see if you can get better performance!"
   ]
  },
  {
   "cell_type": "code",
   "execution_count": 6,
   "metadata": {},
   "outputs": [
    {
     "name": "stdout",
     "output_type": "stream",
     "text": [
      "Episode 100\tAverage Score: -155.38\n",
      "Episode 200\tAverage Score: -211.18\n",
      "Episode 300\tAverage Score: -200.06\n",
      "Episode 400\tAverage Score: -155.02\n",
      "Episode 500\tAverage Score: -193.67\n",
      "Episode 600\tAverage Score: -156.77\n",
      "Episode 700\tAverage Score: -79.862\n",
      "Episode 800\tAverage Score: -86.61\n",
      "Episode 900\tAverage Score: -100.92\n",
      "Episode 1000\tAverage Score: -114.54\n",
      "Episode 1100\tAverage Score: -122.54\n",
      "Episode 1200\tAverage Score: -120.86\n",
      "Episode 1300\tAverage Score: -121.79\n",
      "Episode 1400\tAverage Score: -102.78\n",
      "Episode 1500\tAverage Score: -68.323\n",
      "Episode 1600\tAverage Score: -77.30\n",
      "Episode 1700\tAverage Score: -84.77\n",
      "Episode 1800\tAverage Score: -79.72\n",
      "Episode 1900\tAverage Score: -83.87\n",
      "Episode 2000\tAverage Score: -92.366\n"
     ]
    },
    {
     "data": {
      "image/png": "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\n",
      "text/plain": [
       "<Figure size 432x288 with 1 Axes>"
      ]
     },
     "metadata": {
      "needs_background": "light"
     },
     "output_type": "display_data"
    }
   ],
   "source": [
    "def dqn(n_episodes=2000, max_t=1000, eps_start=1.0, eps_end=0.01, eps_decay=0.995):\n",
    "    \"\"\"Deep Q-Learning.\n",
    "    \n",
    "    Params\n",
    "    ======\n",
    "        n_episodes (int): maximum number of training episodes\n",
    "        max_t (int): maximum number of timesteps per episode\n",
    "        eps_start (float): starting value of epsilon, for epsilon-greedy action selection\n",
    "        eps_end (float): minimum value of epsilon\n",
    "        eps_decay (float): multiplicative factor (per episode) for decreasing epsilon\n",
    "    \"\"\"\n",
    "    scores = []                        # list containing scores from each episode\n",
    "    scores_window = deque(maxlen=100)  # last 100 scores\n",
    "    eps = eps_start                    # initialize epsilon\n",
    "    for i_episode in range(1, n_episodes+1):\n",
    "        state = env.reset()\n",
    "        score = 0\n",
    "        for t in range(max_t):\n",
    "            action = agent.act(state, eps)\n",
    "            next_state, reward, done, _ = env.step(action)\n",
    "            agent.step(state, action, reward, next_state, done)\n",
    "            state = next_state\n",
    "            score += reward\n",
    "            if done:\n",
    "                break \n",
    "        scores_window.append(score)       # save most recent score\n",
    "        scores.append(score)              # save most recent score\n",
    "        eps = max(eps_end, eps_decay*eps) # decrease epsilon\n",
    "        print('\\rEpisode {}\\tAverage Score: {:.2f}'.format(i_episode, np.mean(scores_window)), end=\"\")\n",
    "        if i_episode % 100 == 0:\n",
    "            print('\\rEpisode {}\\tAverage Score: {:.2f}'.format(i_episode, np.mean(scores_window)))\n",
    "        if np.mean(scores_window)>=200.0:\n",
    "            print('\\nEnvironment solved in {:d} episodes!\\tAverage Score: {:.2f}'.format(i_episode-100, np.mean(scores_window)))\n",
    "            torch.save(agent.qnetwork_local.state_dict(), 'checkpoint.pth')\n",
    "            break\n",
    "    return scores\n",
    "\n",
    "scores = dqn()\n",
    "\n",
    "# plot the scores\n",
    "fig = plt.figure()\n",
    "ax = fig.add_subplot(111)\n",
    "plt.plot(np.arange(len(scores)), scores)\n",
    "plt.ylabel('Score')\n",
    "plt.xlabel('Episode #')\n",
    "plt.show()"
   ]
  },
  {
   "cell_type": "markdown",
   "metadata": {},
   "source": [
    "### 4. Watch a Smart Agent!\n",
    "\n",
    "In the next code cell, you will load the trained weights from file to watch a smart agent!"
   ]
  },
  {
   "cell_type": "code",
   "execution_count": 5,
   "metadata": {},
   "outputs": [
    {
     "ename": "FileNotFoundError",
     "evalue": "[Errno 2] No such file or directory: 'checkpoint.pth'",
     "output_type": "error",
     "traceback": [
      "\u001b[0;31m---------------------------------------------------------------------------\u001b[0m",
      "\u001b[0;31mFileNotFoundError\u001b[0m                         Traceback (most recent call last)",
      "\u001b[0;32m<ipython-input-5-cdb5c13011f9>\u001b[0m in \u001b[0;36m<module>\u001b[0;34m\u001b[0m\n\u001b[1;32m      1\u001b[0m \u001b[0;31m# load the weights from file\u001b[0m\u001b[0;34m\u001b[0m\u001b[0;34m\u001b[0m\u001b[0;34m\u001b[0m\u001b[0m\n\u001b[0;32m----> 2\u001b[0;31m \u001b[0magent\u001b[0m\u001b[0;34m.\u001b[0m\u001b[0mqnetwork_local\u001b[0m\u001b[0;34m.\u001b[0m\u001b[0mload_state_dict\u001b[0m\u001b[0;34m(\u001b[0m\u001b[0mtorch\u001b[0m\u001b[0;34m.\u001b[0m\u001b[0mload\u001b[0m\u001b[0;34m(\u001b[0m\u001b[0;34m'checkpoint.pth'\u001b[0m\u001b[0;34m)\u001b[0m\u001b[0;34m)\u001b[0m\u001b[0;34m\u001b[0m\u001b[0;34m\u001b[0m\u001b[0m\n\u001b[0m\u001b[1;32m      3\u001b[0m \u001b[0;34m\u001b[0m\u001b[0m\n\u001b[1;32m      4\u001b[0m \u001b[0;32mfor\u001b[0m \u001b[0mi\u001b[0m \u001b[0;32min\u001b[0m \u001b[0mrange\u001b[0m\u001b[0;34m(\u001b[0m\u001b[0;36m5\u001b[0m\u001b[0;34m)\u001b[0m\u001b[0;34m:\u001b[0m\u001b[0;34m\u001b[0m\u001b[0;34m\u001b[0m\u001b[0m\n\u001b[1;32m      5\u001b[0m     \u001b[0mstate\u001b[0m \u001b[0;34m=\u001b[0m \u001b[0menv\u001b[0m\u001b[0;34m.\u001b[0m\u001b[0mreset\u001b[0m\u001b[0;34m(\u001b[0m\u001b[0;34m)\u001b[0m\u001b[0;34m\u001b[0m\u001b[0;34m\u001b[0m\u001b[0m\n",
      "\u001b[0;32m~/anaconda3/envs/udacity_rl/lib/python3.9/site-packages/torch/serialization.py\u001b[0m in \u001b[0;36mload\u001b[0;34m(f, map_location, pickle_module, **pickle_load_args)\u001b[0m\n\u001b[1;32m    577\u001b[0m         \u001b[0mpickle_load_args\u001b[0m\u001b[0;34m[\u001b[0m\u001b[0;34m'encoding'\u001b[0m\u001b[0;34m]\u001b[0m \u001b[0;34m=\u001b[0m \u001b[0;34m'utf-8'\u001b[0m\u001b[0;34m\u001b[0m\u001b[0;34m\u001b[0m\u001b[0m\n\u001b[1;32m    578\u001b[0m \u001b[0;34m\u001b[0m\u001b[0m\n\u001b[0;32m--> 579\u001b[0;31m     \u001b[0;32mwith\u001b[0m \u001b[0m_open_file_like\u001b[0m\u001b[0;34m(\u001b[0m\u001b[0mf\u001b[0m\u001b[0;34m,\u001b[0m \u001b[0;34m'rb'\u001b[0m\u001b[0;34m)\u001b[0m \u001b[0;32mas\u001b[0m \u001b[0mopened_file\u001b[0m\u001b[0;34m:\u001b[0m\u001b[0;34m\u001b[0m\u001b[0;34m\u001b[0m\u001b[0m\n\u001b[0m\u001b[1;32m    580\u001b[0m         \u001b[0;32mif\u001b[0m \u001b[0m_is_zipfile\u001b[0m\u001b[0;34m(\u001b[0m\u001b[0mopened_file\u001b[0m\u001b[0;34m)\u001b[0m\u001b[0;34m:\u001b[0m\u001b[0;34m\u001b[0m\u001b[0;34m\u001b[0m\u001b[0m\n\u001b[1;32m    581\u001b[0m             \u001b[0;31m# The zipfile reader is going to advance the current file position.\u001b[0m\u001b[0;34m\u001b[0m\u001b[0;34m\u001b[0m\u001b[0;34m\u001b[0m\u001b[0m\n",
      "\u001b[0;32m~/anaconda3/envs/udacity_rl/lib/python3.9/site-packages/torch/serialization.py\u001b[0m in \u001b[0;36m_open_file_like\u001b[0;34m(name_or_buffer, mode)\u001b[0m\n\u001b[1;32m    228\u001b[0m \u001b[0;32mdef\u001b[0m \u001b[0m_open_file_like\u001b[0m\u001b[0;34m(\u001b[0m\u001b[0mname_or_buffer\u001b[0m\u001b[0;34m,\u001b[0m \u001b[0mmode\u001b[0m\u001b[0;34m)\u001b[0m\u001b[0;34m:\u001b[0m\u001b[0;34m\u001b[0m\u001b[0;34m\u001b[0m\u001b[0m\n\u001b[1;32m    229\u001b[0m     \u001b[0;32mif\u001b[0m \u001b[0m_is_path\u001b[0m\u001b[0;34m(\u001b[0m\u001b[0mname_or_buffer\u001b[0m\u001b[0;34m)\u001b[0m\u001b[0;34m:\u001b[0m\u001b[0;34m\u001b[0m\u001b[0;34m\u001b[0m\u001b[0m\n\u001b[0;32m--> 230\u001b[0;31m         \u001b[0;32mreturn\u001b[0m \u001b[0m_open_file\u001b[0m\u001b[0;34m(\u001b[0m\u001b[0mname_or_buffer\u001b[0m\u001b[0;34m,\u001b[0m \u001b[0mmode\u001b[0m\u001b[0;34m)\u001b[0m\u001b[0;34m\u001b[0m\u001b[0;34m\u001b[0m\u001b[0m\n\u001b[0m\u001b[1;32m    231\u001b[0m     \u001b[0;32melse\u001b[0m\u001b[0;34m:\u001b[0m\u001b[0;34m\u001b[0m\u001b[0;34m\u001b[0m\u001b[0m\n\u001b[1;32m    232\u001b[0m         \u001b[0;32mif\u001b[0m \u001b[0;34m'w'\u001b[0m \u001b[0;32min\u001b[0m \u001b[0mmode\u001b[0m\u001b[0;34m:\u001b[0m\u001b[0;34m\u001b[0m\u001b[0;34m\u001b[0m\u001b[0m\n",
      "\u001b[0;32m~/anaconda3/envs/udacity_rl/lib/python3.9/site-packages/torch/serialization.py\u001b[0m in \u001b[0;36m__init__\u001b[0;34m(self, name, mode)\u001b[0m\n\u001b[1;32m    209\u001b[0m \u001b[0;32mclass\u001b[0m \u001b[0m_open_file\u001b[0m\u001b[0;34m(\u001b[0m\u001b[0m_opener\u001b[0m\u001b[0;34m)\u001b[0m\u001b[0;34m:\u001b[0m\u001b[0;34m\u001b[0m\u001b[0;34m\u001b[0m\u001b[0m\n\u001b[1;32m    210\u001b[0m     \u001b[0;32mdef\u001b[0m \u001b[0m__init__\u001b[0m\u001b[0;34m(\u001b[0m\u001b[0mself\u001b[0m\u001b[0;34m,\u001b[0m \u001b[0mname\u001b[0m\u001b[0;34m,\u001b[0m \u001b[0mmode\u001b[0m\u001b[0;34m)\u001b[0m\u001b[0;34m:\u001b[0m\u001b[0;34m\u001b[0m\u001b[0;34m\u001b[0m\u001b[0m\n\u001b[0;32m--> 211\u001b[0;31m         \u001b[0msuper\u001b[0m\u001b[0;34m(\u001b[0m\u001b[0m_open_file\u001b[0m\u001b[0;34m,\u001b[0m \u001b[0mself\u001b[0m\u001b[0;34m)\u001b[0m\u001b[0;34m.\u001b[0m\u001b[0m__init__\u001b[0m\u001b[0;34m(\u001b[0m\u001b[0mopen\u001b[0m\u001b[0;34m(\u001b[0m\u001b[0mname\u001b[0m\u001b[0;34m,\u001b[0m \u001b[0mmode\u001b[0m\u001b[0;34m)\u001b[0m\u001b[0;34m)\u001b[0m\u001b[0;34m\u001b[0m\u001b[0;34m\u001b[0m\u001b[0m\n\u001b[0m\u001b[1;32m    212\u001b[0m \u001b[0;34m\u001b[0m\u001b[0m\n\u001b[1;32m    213\u001b[0m     \u001b[0;32mdef\u001b[0m \u001b[0m__exit__\u001b[0m\u001b[0;34m(\u001b[0m\u001b[0mself\u001b[0m\u001b[0;34m,\u001b[0m \u001b[0;34m*\u001b[0m\u001b[0margs\u001b[0m\u001b[0;34m)\u001b[0m\u001b[0;34m:\u001b[0m\u001b[0;34m\u001b[0m\u001b[0;34m\u001b[0m\u001b[0m\n",
      "\u001b[0;31mFileNotFoundError\u001b[0m: [Errno 2] No such file or directory: 'checkpoint.pth'"
     ]
    }
   ],
   "source": [
    "# load the weights from file\n",
    "agent.qnetwork_local.load_state_dict(torch.load('checkpoint.pth'))\n",
    "\n",
    "for i in range(5):\n",
    "    state = env.reset()\n",
    "    for j in range(200):\n",
    "        action = agent.act(state)\n",
    "        env.render()\n",
    "        state, reward, done, _ = env.step(action)\n",
    "        if done:\n",
    "            break \n",
    "            \n",
    "env.close()"
   ]
  },
  {
   "cell_type": "markdown",
   "metadata": {},
   "source": [
    "### 5. Explore\n",
    "\n",
    "In this exercise, you have implemented a DQN agent and demonstrated how to use it to solve an OpenAI Gym environment.  To continue your learning, you are encouraged to complete any (or all!) of the following tasks:\n",
    "- Amend the various hyperparameters and network architecture to see if you can get your agent to solve the environment faster.  Once you build intuition for the hyperparameters that work well with this environment, try solving a different OpenAI Gym task with discrete actions!\n",
    "- You may like to implement some improvements such as prioritized experience replay, Double DQN, or Dueling DQN! \n",
    "- Write a blog post explaining the intuition behind the DQN algorithm and demonstrating how to use it to solve an RL environment of your choosing.  "
   ]
  }
 ],
 "metadata": {
  "kernelspec": {
   "name": "python383jvsc74a57bd0cbb33d367e61a302c55ede7c679fa7aceb1619867a0d39d28719f45b3f36fb48",
   "display_name": "Python 3.8.3 64-bit ('base': conda)"
  },
  "language_info": {
   "codemirror_mode": {
    "name": "ipython",
    "version": 3
   },
   "file_extension": ".py",
   "mimetype": "text/x-python",
   "name": "python",
   "nbconvert_exporter": "python",
   "pygments_lexer": "ipython3",
<<<<<<< HEAD
   "version": "3.8.3"
  }
 },
 "nbformat": 4,
 "nbformat_minor": 2
}
=======
   "version": "3.9.5"
  },
  "metadata": {
   "interpreter": {
    "hash": "99b5ab568181abee261249a9afceb2c4e7edf9fd30eb232d6fc096634ea0d698"
   }
  }
 },
 "nbformat": 4,
 "nbformat_minor": 4
}
>>>>>>> e9f129f3e3397843f146e48bf2f29e8d93e2ec82
