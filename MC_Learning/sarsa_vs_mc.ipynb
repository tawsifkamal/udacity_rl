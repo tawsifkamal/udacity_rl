{
 "cells": [
  {
   "cell_type": "code",
   "execution_count": 1,
   "metadata": {},
   "outputs": [],
   "source": [
    "import numpy as np\n",
    "import gym\n",
    "from collections import defaultdict\n",
    "import sys\n",
    "import json \n",
    "from plot_utils import plot_policy, plot_win_rate"
   ]
  },
  {
   "cell_type": "code",
   "execution_count": 2,
   "metadata": {},
   "outputs": [],
   "source": [
    "env = gym.make('Blackjack-v0')"
   ]
  },
  {
   "cell_type": "code",
   "execution_count": 3,
   "metadata": {},
   "outputs": [],
   "source": [
    "# hyperparameters \n",
    "num_episodes = 1000000\n",
    "epsilon = 1\n",
    "epsilon_min = 0.05\n",
    "gamma = 1 \n",
    "alpha = 0.03"
   ]
  },
  {
   "cell_type": "code",
   "execution_count": 28,
   "metadata": {},
   "outputs": [],
   "source": [
    "def monte_carlo_control(num_episodes, epsilon, epsilon_min, alpha, gamma): \n",
    "    \n",
    "    # defining the Q fucntion \n",
    "    Q = defaultdict(lambda: np.zeros(2))\n",
    "    rewards_all_episodes = []\n",
    "    \n",
    "    # generating all of the episodes \n",
    "    for episode in range(1, num_episodes + 1): \n",
    "        epsilon = max(epsilon_min, epsilon * 0.99999)\n",
    "        \n",
    "        if episode % 1000 == 0:\n",
    "            print(\"\\rEpisode {}/{}.\".format(episode, num_episodes), end=\"\")\n",
    "            sys.stdout.flush()\n",
    "        \n",
    "        # extracting states, actions, rewards from generated episodes \n",
    "        experience = generate_episode(Q, epsilon)\n",
    "        states, actions, rewards = zip(*experience)\n",
    "        rewards = np.array(rewards)\n",
    "        rewards_all_episodes.append(sum(rewards))\n",
    "        \n",
    "        \n",
    "        # looping over all of the timesteps \n",
    "        for i, state in enumerate(states):\n",
    "            discounts = np.array([gamma ** i for i in range(len(rewards[i: ]))])\n",
    "            returns = sum(rewards[i: ] * discounts)\n",
    "            \n",
    "            # updating the Q_function using the monte carlo constant alpha update rule \n",
    "            Q[state][actions[i]] += alpha * (returns - Q[state][actions[i]])\n",
    "            policy = dict((state, np.argmax(q_value)) for state, q_value in Q.items())\n",
    "        \n",
    "    return Q, policy, rewards_all_episodes"
   ]
  },
  {
   "cell_type": "code",
   "execution_count": 37,
   "metadata": {},
   "outputs": [],
   "source": [
    "def generate_episode(Q, epsilon):\n",
    "    state = env.reset()\n",
    "    episode = []\n",
    "    \n",
    "    while True: \n",
    "        \n",
    "        # sampling actions using the Epsilon Greedy Policy \n",
    "        action = epsilon_greedy_policy(Q, state, epsilon)\n",
    "        next_state, reward, done, info = env.step(action)\n",
    "        state = next_state\n",
    "        episode.append((state, action, reward))\n",
    "    \n",
    "        if done == True:\n",
    "            break\n",
    "    \n",
    "    return episode "
   ]
  },
  {
   "cell_type": "code",
   "execution_count": 30,
   "metadata": {},
   "outputs": [],
   "source": [
    "def epsilon_greedy_policy(Q, state, epsilon):\n",
    "    probs = np.zeros(2)\n",
    "    optimal_action = np.argmax(Q[state])\n",
    "    sub_optimal_action = np.abs(optimal_action - 1)\n",
    "    \n",
    "    probs[optimal_action] = 1 - epsilon + (epsilon / 2)\n",
    "    probs[sub_optimal_action] = epsilon / 2\n",
    "    \n",
    "    # choose an action according to the probabilites \n",
    "    action = np.random.choice(np.arange(2), p = probs)\n",
    "    \n",
    "    return action "
   ]
  },
  {
   "cell_type": "code",
   "execution_count": 31,
   "metadata": {},
   "outputs": [
    {
     "name": "stdout",
     "output_type": "stream",
     "text": [
      "Episode 1000000/1000000."
     ]
    }
   ],
   "source": [
    "Q, policy, rewards_all_episodes = monte_carlo_control(num_episodes, epsilon, epsilon_min, alpha, gamma)"
   ]
  },
  {
   "cell_type": "code",
   "execution_count": 35,
   "metadata": {},
   "outputs": [
    {
     "data": {
      "image/png": "[encoded data removed]",
      "text/plain": [
       "<Figure size 432x288 with 1 Axes>"
      ]
     },
     "metadata": {
      "needs_background": "light"
     },
     "output_type": "display_data"
    }
   ],
   "source": [
    "plot_win_rate(rewards_all_episodes, num_episodes)"
   ]
  },
  {
   "cell_type": "code",
   "execution_count": 36,
   "metadata": {},
   "outputs": [
    {
     "data": {
      "image/png": "[encoded data removed]",
      "text/plain": [
       "<Figure size 1080x1080 with 4 Axes>"
      ]
     },
     "metadata": {
      "needs_background": "light"
     },
     "output_type": "display_data"
    }
   ],
   "source": [
    "# win_rate of around 42% \n",
    "plot_policy(policy)"
   ]
  },
  {
   "cell_type": "markdown",
   "metadata": {},
   "source": [
    "![True Optimal Policy](misc/optimal.png)\n"
   ]
  }
 ],
 "metadata": {
  "kernelspec": {
   "display_name": "Python 3",
   "language": "python",
   "name": "python3"
  },
  "language_info": {
   "codemirror_mode": {
    "name": "ipython",
    "version": 3
   },
   "file_extension": ".py",
   "mimetype": "text/x-python",
   "name": "python",
   "nbconvert_exporter": "python",
   "pygments_lexer": "ipython3",
   "version": "3.8.3"
  }
 },
 "nbformat": 4,
 "nbformat_minor": 5
}
