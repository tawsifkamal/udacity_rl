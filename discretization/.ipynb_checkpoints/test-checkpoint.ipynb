{
 "cells": [
  {
   "cell_type": "code",
   "execution_count": 1,
   "id": "3969d4ea-a4ed-48e2-b29d-8c254d5c1cca",
   "metadata": {},
   "outputs": [],
   "source": [
    "import numpy as np"
   ]
  },
  {
   "cell_type": "code",
   "execution_count": 3,
   "id": "c5492123-743d-4df3-a1cf-006dd2fffe22",
   "metadata": {},
   "outputs": [
    {
     "data": {
      "text/plain": [
       "array([[1, 2, 3],\n",
       "       [4, 5, 6]])"
      ]
     },
     "execution_count": 3,
     "metadata": {},
     "output_type": "execute_result"
    }
   ],
   "source": [
    "arr = np.array([[1, 2, 3], [4, 5, 6]])\n",
    "arr"
   ]
  },
  {
   "cell_type": "code",
   "execution_count": 5,
   "id": "a1f0e169-7333-4642-95ad-70a2e3fee801",
   "metadata": {},
   "outputs": [],
   "source": [
    "arr = np.array([np.arange(0, 11, 2), np.arange(10, 21, 2)])"
   ]
  },
  {
   "cell_type": "code",
   "execution_count": 7,
   "id": "43a37d84-3f0e-4d49-9688-15cb618a7ea0",
   "metadata": {},
   "outputs": [
    {
     "name": "stdout",
     "output_type": "stream",
     "text": [
      "[[ 0  2  4  6  8 10]\n",
      " [10 12 14 16 18 20]]\n"
     ]
    }
   ],
   "source": [
    "print(arr)"
   ]
  },
  {
   "cell_type": "code",
   "execution_count": 22,
   "id": "580f5f03-e27c-40c7-8785-b225215c85a0",
   "metadata": {},
   "outputs": [],
   "source": [
    "arr = np.array([1, 5, 14])\n",
    "bins = np.array([1, 4, 7, 15])\n",
    "inds = np.digitize(arr, bins)"
   ]
  },
  {
   "cell_type": "code",
   "execution_count": 23,
   "id": "edc093a2-ad9f-43b5-9c8c-d8787dfaccf2",
   "metadata": {},
   "outputs": [
    {
     "name": "stdout",
     "output_type": "stream",
     "text": [
      "[1 2 3]\n"
     ]
    }
   ],
   "source": [
    "print(inds)"
   ]
  },
  {
   "cell_type": "code",
   "execution_count": null,
   "id": "ce049164-830e-4e28-9ea2-9c968c499eae",
   "metadata": {},
   "outputs": [],
   "source": []
  }
 ],
 "metadata": {
  "kernelspec": {
   "display_name": "Python 3.9 (XPython)",
   "language": "python",
   "name": "xpython"
  },
  "language_info": {
   "file_extension": ".py",
   "mimetype": "text/x-python",
   "name": "python",
   "version": "3.9.4"
  }
 },
 "nbformat": 4,
 "nbformat_minor": 5
}
